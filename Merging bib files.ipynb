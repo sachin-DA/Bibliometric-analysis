{
 "cells": [
  {
   "cell_type": "code",
   "execution_count": 3,
   "metadata": {},
   "outputs": [],
   "source": [
    "import glob\n",
    "\n",
    "# create set to store unique entries\n",
    "entries = set()\n",
    "\n",
    "# loop through each bib file and add its contents to the set\n",
    "for bib_file in glob.glob(\"*.bib\"):\n",
    "    with open(bib_file, encoding='utf-8') as f:\n",
    "        bib_contents = f.read()\n",
    "        # split into individual entries\n",
    "        bib_entries = bib_contents.split('\\n\\n')\n",
    "        # add each entry to the set\n",
    "        for entry in bib_entries:\n",
    "            entries.add(entry)\n",
    "\n",
    "# write the unique entries to a new file\n",
    "with open(\"merged.bib\", \"w\", encoding='utf-8') as f:\n",
    "    # join the entries back together into a single string\n",
    "    merged_entries = '\\n\\n'.join(entries)\n",
    "    f.write(merged_entries)"
   ]
  },
  {
   "cell_type": "code",
   "execution_count": null,
   "metadata": {},
   "outputs": [],
   "source": []
  }
 ],
 "metadata": {
  "kernelspec": {
   "display_name": "Python 3",
   "language": "python",
   "name": "python3"
  },
  "language_info": {
   "codemirror_mode": {
    "name": "ipython",
    "version": 3
   },
   "file_extension": ".py",
   "mimetype": "text/x-python",
   "name": "python",
   "nbconvert_exporter": "python",
   "pygments_lexer": "ipython3",
   "version": "3.7.6"
  }
 },
 "nbformat": 4,
 "nbformat_minor": 4
}
